{
 "cells": [
  {
   "cell_type": "markdown",
   "id": "f332af15-4666-4be1-9ec0-26de5c713b07",
   "metadata": {},
   "source": [
    "# Extracting Tesla Stock Data Using yfinance"
   ]
  },
  {
   "cell_type": "code",
   "execution_count": 1,
   "id": "e3196e71-a4ec-4356-973f-5adb0538cad7",
   "metadata": {
    "tags": []
   },
   "outputs": [],
   "source": [
    "import yfinance as yf\n",
    "import pandas as pd"
   ]
  },
  {
   "cell_type": "code",
   "execution_count": 2,
   "id": "6302176e-49aa-4f36-9628-8a6dc227aa5a",
   "metadata": {
    "tags": []
   },
   "outputs": [],
   "source": [
    "tesla = yf.Ticker(\"TSLA\")"
   ]
  },
  {
   "cell_type": "code",
   "execution_count": 3,
   "id": "e976bab7-db10-4d09-8dbb-364d2a0c2282",
   "metadata": {
    "tags": []
   },
   "outputs": [],
   "source": [
    "tesla_df = tesla.history(period = \"max\", interval = \"1d\")"
   ]
  },
  {
   "cell_type": "code",
   "execution_count": 4,
   "id": "7a3c5a42-c254-495e-87a7-dfea3b638a44",
   "metadata": {
    "tags": []
   },
   "outputs": [
    {
     "data": {
      "text/html": [
       "<div>\n",
       "<style scoped>\n",
       "    .dataframe tbody tr th:only-of-type {\n",
       "        vertical-align: middle;\n",
       "    }\n",
       "\n",
       "    .dataframe tbody tr th {\n",
       "        vertical-align: top;\n",
       "    }\n",
       "\n",
       "    .dataframe thead th {\n",
       "        text-align: right;\n",
       "    }\n",
       "</style>\n",
       "<table border=\"1\" class=\"dataframe\">\n",
       "  <thead>\n",
       "    <tr style=\"text-align: right;\">\n",
       "      <th></th>\n",
       "      <th>Open</th>\n",
       "      <th>High</th>\n",
       "      <th>Low</th>\n",
       "      <th>Close</th>\n",
       "      <th>Volume</th>\n",
       "      <th>Dividends</th>\n",
       "      <th>Stock Splits</th>\n",
       "    </tr>\n",
       "    <tr>\n",
       "      <th>Date</th>\n",
       "      <th></th>\n",
       "      <th></th>\n",
       "      <th></th>\n",
       "      <th></th>\n",
       "      <th></th>\n",
       "      <th></th>\n",
       "      <th></th>\n",
       "    </tr>\n",
       "  </thead>\n",
       "  <tbody>\n",
       "    <tr>\n",
       "      <th>2010-06-29 00:00:00-04:00</th>\n",
       "      <td>1.266667</td>\n",
       "      <td>1.666667</td>\n",
       "      <td>1.169333</td>\n",
       "      <td>1.592667</td>\n",
       "      <td>281494500</td>\n",
       "      <td>0.0</td>\n",
       "      <td>0.0</td>\n",
       "    </tr>\n",
       "    <tr>\n",
       "      <th>2010-06-30 00:00:00-04:00</th>\n",
       "      <td>1.719333</td>\n",
       "      <td>2.028000</td>\n",
       "      <td>1.553333</td>\n",
       "      <td>1.588667</td>\n",
       "      <td>257806500</td>\n",
       "      <td>0.0</td>\n",
       "      <td>0.0</td>\n",
       "    </tr>\n",
       "    <tr>\n",
       "      <th>2010-07-01 00:00:00-04:00</th>\n",
       "      <td>1.666667</td>\n",
       "      <td>1.728000</td>\n",
       "      <td>1.351333</td>\n",
       "      <td>1.464000</td>\n",
       "      <td>123282000</td>\n",
       "      <td>0.0</td>\n",
       "      <td>0.0</td>\n",
       "    </tr>\n",
       "    <tr>\n",
       "      <th>2010-07-02 00:00:00-04:00</th>\n",
       "      <td>1.533333</td>\n",
       "      <td>1.540000</td>\n",
       "      <td>1.247333</td>\n",
       "      <td>1.280000</td>\n",
       "      <td>77097000</td>\n",
       "      <td>0.0</td>\n",
       "      <td>0.0</td>\n",
       "    </tr>\n",
       "    <tr>\n",
       "      <th>2010-07-06 00:00:00-04:00</th>\n",
       "      <td>1.333333</td>\n",
       "      <td>1.333333</td>\n",
       "      <td>1.055333</td>\n",
       "      <td>1.074000</td>\n",
       "      <td>103003500</td>\n",
       "      <td>0.0</td>\n",
       "      <td>0.0</td>\n",
       "    </tr>\n",
       "  </tbody>\n",
       "</table>\n",
       "</div>"
      ],
      "text/plain": [
       "                               Open      High       Low     Close     Volume  \\\n",
       "Date                                                                           \n",
       "2010-06-29 00:00:00-04:00  1.266667  1.666667  1.169333  1.592667  281494500   \n",
       "2010-06-30 00:00:00-04:00  1.719333  2.028000  1.553333  1.588667  257806500   \n",
       "2010-07-01 00:00:00-04:00  1.666667  1.728000  1.351333  1.464000  123282000   \n",
       "2010-07-02 00:00:00-04:00  1.533333  1.540000  1.247333  1.280000   77097000   \n",
       "2010-07-06 00:00:00-04:00  1.333333  1.333333  1.055333  1.074000  103003500   \n",
       "\n",
       "                           Dividends  Stock Splits  \n",
       "Date                                                \n",
       "2010-06-29 00:00:00-04:00        0.0           0.0  \n",
       "2010-06-30 00:00:00-04:00        0.0           0.0  \n",
       "2010-07-01 00:00:00-04:00        0.0           0.0  \n",
       "2010-07-02 00:00:00-04:00        0.0           0.0  \n",
       "2010-07-06 00:00:00-04:00        0.0           0.0  "
      ]
     },
     "execution_count": 4,
     "metadata": {},
     "output_type": "execute_result"
    }
   ],
   "source": [
    "tesla_df.head()"
   ]
  },
  {
   "cell_type": "code",
   "execution_count": 5,
   "id": "68891e48-dc99-4477-bb90-071923159dd8",
   "metadata": {
    "tags": []
   },
   "outputs": [],
   "source": [
    "tesla_df.reset_index(drop = False, inplace = True)"
   ]
  },
  {
   "cell_type": "code",
   "execution_count": null,
   "id": "fe3c001a-f2e9-4475-8b90-2bf8c511ac8b",
   "metadata": {
    "tags": []
   },
   "outputs": [],
   "source": []
  },
  {
   "cell_type": "markdown",
   "id": "8513aaa3-4b02-488b-97a6-0d7cc36c3aec",
   "metadata": {},
   "source": [
    "# Extracting Tesla Revenue Data Using Webscraping"
   ]
  },
  {
   "cell_type": "code",
   "execution_count": 6,
   "id": "f6d7eb58-0a2a-40c0-a2ef-166b02bcf5a3",
   "metadata": {
    "tags": []
   },
   "outputs": [],
   "source": [
    "import requests\n",
    "from bs4 import BeautifulSoup"
   ]
  },
  {
   "cell_type": "code",
   "execution_count": 7,
   "id": "7df98da1-546e-4e27-ad4c-a3feaa44c779",
   "metadata": {
    "tags": []
   },
   "outputs": [],
   "source": [
    "url = \"https://cf-courses-data.s3.us.cloud-object-storage.appdomain.cloud/IBMDeveloperSkillsNetwork-PY0220EN-SkillsNetwork/labs/project/revenue.htm\""
   ]
  },
  {
   "cell_type": "code",
   "execution_count": 8,
   "id": "2b7ab3ca-d2c3-4659-892a-72c5fbb9ca8d",
   "metadata": {
    "tags": []
   },
   "outputs": [],
   "source": [
    "data  = requests.get(url).text"
   ]
  },
  {
   "cell_type": "code",
   "execution_count": 9,
   "id": "fc7abe6d-07d6-4929-a458-eebd6bafb23e",
   "metadata": {
    "tags": []
   },
   "outputs": [],
   "source": [
    "soup = BeautifulSoup(data, 'html5lib')"
   ]
  },
  {
   "cell_type": "code",
   "execution_count": 10,
   "id": "6db648aa-526f-4b45-9711-75bc4e575bed",
   "metadata": {
    "tags": []
   },
   "outputs": [],
   "source": [
    "dataDict = {}\n",
    "for row in soup.find(\"tbody\").find_all('tr'):\n",
    "    col = row.find_all(\"td\")\n",
    "    dataDict[col[0].text] = col[1].text"
   ]
  },
  {
   "cell_type": "code",
   "execution_count": 11,
   "id": "1510f5f0-db25-42ea-b4eb-427b3a063738",
   "metadata": {
    "tags": []
   },
   "outputs": [
    {
     "data": {
      "text/plain": [
       "{'2021': '$53,823',\n",
       " '2020': '$31,536',\n",
       " '2019': '$24,578',\n",
       " '2018': '$21,461',\n",
       " '2017': '$11,759',\n",
       " '2016': '$7,000',\n",
       " '2015': '$4,046',\n",
       " '2014': '$3,198',\n",
       " '2013': '$2,013',\n",
       " '2012': '$413',\n",
       " '2011': '$204',\n",
       " '2010': '$117',\n",
       " '2009': '$112'}"
      ]
     },
     "execution_count": 11,
     "metadata": {},
     "output_type": "execute_result"
    }
   ],
   "source": [
    "dataDict"
   ]
  },
  {
   "cell_type": "code",
   "execution_count": 12,
   "id": "b19ea13a-580d-4054-b6ad-c636fb5385a4",
   "metadata": {
    "tags": []
   },
   "outputs": [],
   "source": [
    "tsla = pd.DataFrame(index = dataDict.keys(), data = dataDict.values())"
   ]
  },
  {
   "cell_type": "code",
   "execution_count": 13,
   "id": "ade57d10-0c45-4e98-8af1-bd514cf0542e",
   "metadata": {
    "tags": []
   },
   "outputs": [],
   "source": [
    "tsla.reset_index(inplace = True, drop = False)"
   ]
  },
  {
   "cell_type": "code",
   "execution_count": 14,
   "id": "8a5cd01b-c043-4b27-a158-41a36ea8db17",
   "metadata": {
    "tags": []
   },
   "outputs": [],
   "source": [
    "tsla.rename(columns = {\"index\":\"Year\",0:\"Revenue\"}, inplace = True)"
   ]
  },
  {
   "cell_type": "code",
   "execution_count": 15,
   "id": "57caf4e2-b5c4-469c-9b91-370c3d78f49c",
   "metadata": {
    "tags": []
   },
   "outputs": [],
   "source": [
    "for i in tsla.index:\n",
    "    tsla.loc[i,\"Revenue\"] = tsla.loc[i,\"Revenue\"].replace(\"$\",\"\")\n",
    "    tsla.loc[i,\"Revenue\"] = int(tsla.loc[i,\"Revenue\"].replace(\",\",\"\"))"
   ]
  },
  {
   "cell_type": "code",
   "execution_count": 16,
   "id": "a88c6cc9-f81f-40ec-b918-28bd628c0638",
   "metadata": {
    "tags": []
   },
   "outputs": [
    {
     "data": {
      "text/html": [
       "<div>\n",
       "<style scoped>\n",
       "    .dataframe tbody tr th:only-of-type {\n",
       "        vertical-align: middle;\n",
       "    }\n",
       "\n",
       "    .dataframe tbody tr th {\n",
       "        vertical-align: top;\n",
       "    }\n",
       "\n",
       "    .dataframe thead th {\n",
       "        text-align: right;\n",
       "    }\n",
       "</style>\n",
       "<table border=\"1\" class=\"dataframe\">\n",
       "  <thead>\n",
       "    <tr style=\"text-align: right;\">\n",
       "      <th></th>\n",
       "      <th>Year</th>\n",
       "      <th>Revenue</th>\n",
       "    </tr>\n",
       "  </thead>\n",
       "  <tbody>\n",
       "    <tr>\n",
       "      <th>0</th>\n",
       "      <td>2021</td>\n",
       "      <td>53823</td>\n",
       "    </tr>\n",
       "    <tr>\n",
       "      <th>1</th>\n",
       "      <td>2020</td>\n",
       "      <td>31536</td>\n",
       "    </tr>\n",
       "    <tr>\n",
       "      <th>2</th>\n",
       "      <td>2019</td>\n",
       "      <td>24578</td>\n",
       "    </tr>\n",
       "    <tr>\n",
       "      <th>3</th>\n",
       "      <td>2018</td>\n",
       "      <td>21461</td>\n",
       "    </tr>\n",
       "    <tr>\n",
       "      <th>4</th>\n",
       "      <td>2017</td>\n",
       "      <td>11759</td>\n",
       "    </tr>\n",
       "    <tr>\n",
       "      <th>5</th>\n",
       "      <td>2016</td>\n",
       "      <td>7000</td>\n",
       "    </tr>\n",
       "    <tr>\n",
       "      <th>6</th>\n",
       "      <td>2015</td>\n",
       "      <td>4046</td>\n",
       "    </tr>\n",
       "    <tr>\n",
       "      <th>7</th>\n",
       "      <td>2014</td>\n",
       "      <td>3198</td>\n",
       "    </tr>\n",
       "    <tr>\n",
       "      <th>8</th>\n",
       "      <td>2013</td>\n",
       "      <td>2013</td>\n",
       "    </tr>\n",
       "    <tr>\n",
       "      <th>9</th>\n",
       "      <td>2012</td>\n",
       "      <td>413</td>\n",
       "    </tr>\n",
       "    <tr>\n",
       "      <th>10</th>\n",
       "      <td>2011</td>\n",
       "      <td>204</td>\n",
       "    </tr>\n",
       "    <tr>\n",
       "      <th>11</th>\n",
       "      <td>2010</td>\n",
       "      <td>117</td>\n",
       "    </tr>\n",
       "    <tr>\n",
       "      <th>12</th>\n",
       "      <td>2009</td>\n",
       "      <td>112</td>\n",
       "    </tr>\n",
       "  </tbody>\n",
       "</table>\n",
       "</div>"
      ],
      "text/plain": [
       "    Year Revenue\n",
       "0   2021   53823\n",
       "1   2020   31536\n",
       "2   2019   24578\n",
       "3   2018   21461\n",
       "4   2017   11759\n",
       "5   2016    7000\n",
       "6   2015    4046\n",
       "7   2014    3198\n",
       "8   2013    2013\n",
       "9   2012     413\n",
       "10  2011     204\n",
       "11  2010     117\n",
       "12  2009     112"
      ]
     },
     "execution_count": 16,
     "metadata": {},
     "output_type": "execute_result"
    }
   ],
   "source": [
    "tsla"
   ]
  },
  {
   "cell_type": "markdown",
   "id": "b587884e-8746-4925-8ec0-1cac9ea6df99",
   "metadata": {},
   "source": [
    "# Extracting GameStop Stock Data Using yfinance"
   ]
  },
  {
   "cell_type": "code",
   "execution_count": 17,
   "id": "f72b6007-ca12-4766-bcd6-4838a6588f33",
   "metadata": {
    "tags": []
   },
   "outputs": [],
   "source": [
    "game = yf.Ticker(\"GME\")"
   ]
  },
  {
   "cell_type": "code",
   "execution_count": 18,
   "id": "361f7b90-4d67-4e62-806a-fdf53bdc9396",
   "metadata": {
    "tags": []
   },
   "outputs": [],
   "source": [
    "game_df = game.history(period = \"max\", interval = \"1d\")"
   ]
  },
  {
   "cell_type": "code",
   "execution_count": 19,
   "id": "104dd604-dd55-401f-8c6e-14d3fb1b4304",
   "metadata": {
    "tags": []
   },
   "outputs": [],
   "source": [
    "game_df.reset_index(drop = False, inplace = True)"
   ]
  },
  {
   "cell_type": "code",
   "execution_count": 20,
   "id": "dd82e4ca-1a1d-485f-afb3-12ff1c95a06e",
   "metadata": {
    "tags": []
   },
   "outputs": [
    {
     "data": {
      "text/html": [
       "<div>\n",
       "<style scoped>\n",
       "    .dataframe tbody tr th:only-of-type {\n",
       "        vertical-align: middle;\n",
       "    }\n",
       "\n",
       "    .dataframe tbody tr th {\n",
       "        vertical-align: top;\n",
       "    }\n",
       "\n",
       "    .dataframe thead th {\n",
       "        text-align: right;\n",
       "    }\n",
       "</style>\n",
       "<table border=\"1\" class=\"dataframe\">\n",
       "  <thead>\n",
       "    <tr style=\"text-align: right;\">\n",
       "      <th></th>\n",
       "      <th>Date</th>\n",
       "      <th>Open</th>\n",
       "      <th>High</th>\n",
       "      <th>Low</th>\n",
       "      <th>Close</th>\n",
       "      <th>Volume</th>\n",
       "      <th>Dividends</th>\n",
       "      <th>Stock Splits</th>\n",
       "    </tr>\n",
       "  </thead>\n",
       "  <tbody>\n",
       "    <tr>\n",
       "      <th>0</th>\n",
       "      <td>2002-02-13 00:00:00-05:00</td>\n",
       "      <td>1.620129</td>\n",
       "      <td>1.693350</td>\n",
       "      <td>1.603296</td>\n",
       "      <td>1.691667</td>\n",
       "      <td>76216000</td>\n",
       "      <td>0.0</td>\n",
       "      <td>0.0</td>\n",
       "    </tr>\n",
       "    <tr>\n",
       "      <th>1</th>\n",
       "      <td>2002-02-14 00:00:00-05:00</td>\n",
       "      <td>1.712707</td>\n",
       "      <td>1.716073</td>\n",
       "      <td>1.670626</td>\n",
       "      <td>1.683250</td>\n",
       "      <td>11021600</td>\n",
       "      <td>0.0</td>\n",
       "      <td>0.0</td>\n",
       "    </tr>\n",
       "    <tr>\n",
       "      <th>2</th>\n",
       "      <td>2002-02-15 00:00:00-05:00</td>\n",
       "      <td>1.683250</td>\n",
       "      <td>1.687458</td>\n",
       "      <td>1.658001</td>\n",
       "      <td>1.674834</td>\n",
       "      <td>8389600</td>\n",
       "      <td>0.0</td>\n",
       "      <td>0.0</td>\n",
       "    </tr>\n",
       "    <tr>\n",
       "      <th>3</th>\n",
       "      <td>2002-02-19 00:00:00-05:00</td>\n",
       "      <td>1.666418</td>\n",
       "      <td>1.666418</td>\n",
       "      <td>1.578048</td>\n",
       "      <td>1.607505</td>\n",
       "      <td>7410400</td>\n",
       "      <td>0.0</td>\n",
       "      <td>0.0</td>\n",
       "    </tr>\n",
       "    <tr>\n",
       "      <th>4</th>\n",
       "      <td>2002-02-20 00:00:00-05:00</td>\n",
       "      <td>1.615920</td>\n",
       "      <td>1.662210</td>\n",
       "      <td>1.603296</td>\n",
       "      <td>1.662210</td>\n",
       "      <td>6892800</td>\n",
       "      <td>0.0</td>\n",
       "      <td>0.0</td>\n",
       "    </tr>\n",
       "  </tbody>\n",
       "</table>\n",
       "</div>"
      ],
      "text/plain": [
       "                       Date      Open      High       Low     Close    Volume  \\\n",
       "0 2002-02-13 00:00:00-05:00  1.620129  1.693350  1.603296  1.691667  76216000   \n",
       "1 2002-02-14 00:00:00-05:00  1.712707  1.716073  1.670626  1.683250  11021600   \n",
       "2 2002-02-15 00:00:00-05:00  1.683250  1.687458  1.658001  1.674834   8389600   \n",
       "3 2002-02-19 00:00:00-05:00  1.666418  1.666418  1.578048  1.607505   7410400   \n",
       "4 2002-02-20 00:00:00-05:00  1.615920  1.662210  1.603296  1.662210   6892800   \n",
       "\n",
       "   Dividends  Stock Splits  \n",
       "0        0.0           0.0  \n",
       "1        0.0           0.0  \n",
       "2        0.0           0.0  \n",
       "3        0.0           0.0  \n",
       "4        0.0           0.0  "
      ]
     },
     "execution_count": 20,
     "metadata": {},
     "output_type": "execute_result"
    }
   ],
   "source": [
    "game_df.head()"
   ]
  },
  {
   "cell_type": "markdown",
   "id": "4f2b994f-4e27-4faa-84b2-0414e4053621",
   "metadata": {},
   "source": [
    "# Extracting GameStop Revenue Data Using Webscraping "
   ]
  },
  {
   "cell_type": "code",
   "execution_count": 21,
   "id": "46bafbdd-0481-45fa-9801-18f3942bd8da",
   "metadata": {
    "tags": []
   },
   "outputs": [],
   "source": [
    "url = \"https://cf-courses-data.s3.us.cloud-object-storage.appdomain.cloud/IBMDeveloperSkillsNetwork-PY0220EN-SkillsNetwork/labs/project/stock.html\""
   ]
  },
  {
   "cell_type": "code",
   "execution_count": 22,
   "id": "f8dfea0c-4cf4-477e-951d-14044d673728",
   "metadata": {
    "tags": []
   },
   "outputs": [],
   "source": [
    "data  = requests.get(url).text"
   ]
  },
  {
   "cell_type": "code",
   "execution_count": 23,
   "id": "c95db331-c687-4929-a331-9007fdffc472",
   "metadata": {
    "tags": []
   },
   "outputs": [],
   "source": [
    "soup = BeautifulSoup(data, 'html5lib')"
   ]
  },
  {
   "cell_type": "code",
   "execution_count": 24,
   "id": "4f5e0630-909d-40aa-9a13-74ecea2a9c27",
   "metadata": {
    "tags": []
   },
   "outputs": [],
   "source": [
    "dataDict = {}\n",
    "for row in soup.find(\"tbody\").find_all('tr'):\n",
    "    col = row.find_all(\"td\")\n",
    "    dataDict[col[0].text] = col[1].text"
   ]
  },
  {
   "cell_type": "code",
   "execution_count": 25,
   "id": "75bd247f-10e9-40f7-8203-df4eaea3f172",
   "metadata": {
    "tags": []
   },
   "outputs": [],
   "source": [
    "gme = pd.DataFrame(index = dataDict.keys(), data = dataDict.values())"
   ]
  },
  {
   "cell_type": "code",
   "execution_count": 26,
   "id": "0e242152-e413-47c0-8999-54aed14c2788",
   "metadata": {
    "tags": []
   },
   "outputs": [],
   "source": [
    "gme.reset_index(inplace = True, drop = False)"
   ]
  },
  {
   "cell_type": "code",
   "execution_count": 27,
   "id": "999c707b-cfc3-43ff-a389-0509a6438b28",
   "metadata": {
    "tags": []
   },
   "outputs": [],
   "source": [
    "gme.rename(columns = {\"index\":\"Year\",0:\"Revenue\"}, inplace = True)"
   ]
  },
  {
   "cell_type": "code",
   "execution_count": 28,
   "id": "918aa424-6325-42b8-84ef-651823edbe96",
   "metadata": {
    "tags": []
   },
   "outputs": [],
   "source": [
    "for i in gme.index:\n",
    "    gme.loc[i,\"Revenue\"] = gme.loc[i,\"Revenue\"].replace(\"$\",\"\")\n",
    "    gme.loc[i,\"Revenue\"] = int(gme.loc[i,\"Revenue\"].replace(\",\",\"\"))"
   ]
  },
  {
   "cell_type": "code",
   "execution_count": 29,
   "id": "66afb1ec-4168-4c1a-abc5-5e298fd00139",
   "metadata": {
    "tags": []
   },
   "outputs": [
    {
     "data": {
      "text/html": [
       "<div>\n",
       "<style scoped>\n",
       "    .dataframe tbody tr th:only-of-type {\n",
       "        vertical-align: middle;\n",
       "    }\n",
       "\n",
       "    .dataframe tbody tr th {\n",
       "        vertical-align: top;\n",
       "    }\n",
       "\n",
       "    .dataframe thead th {\n",
       "        text-align: right;\n",
       "    }\n",
       "</style>\n",
       "<table border=\"1\" class=\"dataframe\">\n",
       "  <thead>\n",
       "    <tr style=\"text-align: right;\">\n",
       "      <th></th>\n",
       "      <th>Year</th>\n",
       "      <th>Revenue</th>\n",
       "    </tr>\n",
       "  </thead>\n",
       "  <tbody>\n",
       "    <tr>\n",
       "      <th>0</th>\n",
       "      <td>2020</td>\n",
       "      <td>6466</td>\n",
       "    </tr>\n",
       "    <tr>\n",
       "      <th>1</th>\n",
       "      <td>2019</td>\n",
       "      <td>8285</td>\n",
       "    </tr>\n",
       "    <tr>\n",
       "      <th>2</th>\n",
       "      <td>2018</td>\n",
       "      <td>8547</td>\n",
       "    </tr>\n",
       "    <tr>\n",
       "      <th>3</th>\n",
       "      <td>2017</td>\n",
       "      <td>7965</td>\n",
       "    </tr>\n",
       "    <tr>\n",
       "      <th>4</th>\n",
       "      <td>2016</td>\n",
       "      <td>9364</td>\n",
       "    </tr>\n",
       "  </tbody>\n",
       "</table>\n",
       "</div>"
      ],
      "text/plain": [
       "   Year Revenue\n",
       "0  2020    6466\n",
       "1  2019    8285\n",
       "2  2018    8547\n",
       "3  2017    7965\n",
       "4  2016    9364"
      ]
     },
     "execution_count": 29,
     "metadata": {},
     "output_type": "execute_result"
    }
   ],
   "source": [
    "gme.head()"
   ]
  },
  {
   "cell_type": "markdown",
   "id": "8ebe1f8d-d4e7-479f-b02d-5ceede3e9440",
   "metadata": {},
   "source": [
    "# Tesla Stock and Revenue Dashboard"
   ]
  },
  {
   "cell_type": "code",
   "execution_count": 30,
   "id": "b0138632-dccf-4e10-a9c5-3d5ea2a2e59b",
   "metadata": {
    "tags": []
   },
   "outputs": [
    {
     "data": {
      "text/plain": [
       "<Axes: title={'center': 'TESLA'}, xlabel='Date'>"
      ]
     },
     "execution_count": 30,
     "metadata": {},
     "output_type": "execute_result"
    },
    {
     "data": {
      "image/png": "[encoded data removed]",
      "text/plain": [
       "<Figure size 640x480 with 1 Axes>"
      ]
     },
     "metadata": {},
     "output_type": "display_data"
    }
   ],
   "source": [
    "tesla_df.plot(kind = \"line\", x=\"Date\",y=\"Close\",title = \"Tesla\")"
   ]
  },
  {
   "cell_type": "code",
   "execution_count": 36,
   "id": "f1398e52-8f7e-4176-8ab3-af43bdb4ff26",
   "metadata": {
    "tags": []
   },
   "outputs": [
    {
     "data": {
      "text/plain": [
       "<Axes: title={'center': 'Tesla revenue (M$)'}, xlabel='Year'>"
      ]
     },
     "execution_count": 36,
     "metadata": {},
     "output_type": "execute_result"
    },
    {
     "data": {
      "image/png": "[encoded data removed]",
      "text/plain": [
       "<Figure size 640x480 with 1 Axes>"
      ]
     },
     "metadata": {},
     "output_type": "display_data"
    }
   ],
   "source": [
    "tsla.sort_values(by=\"Year\").plot(kind=\"line\", x=\"Year\",y=\"Revenue\", title = \"Tesla revenue (M$)\")"
   ]
  },
  {
   "cell_type": "markdown",
   "id": "9eb8a323-b5a6-4f89-a555-967aa0fd23b2",
   "metadata": {},
   "source": [
    "# GameStop Stock and Revenue Dashboard"
   ]
  },
  {
   "cell_type": "code",
   "execution_count": 35,
   "id": "6cf53761-c2ef-4b78-9a9c-3e9e36e78d5f",
   "metadata": {},
   "outputs": [
    {
     "data": {
      "text/plain": [
       "<Axes: title={'center': 'GAMESTOP'}, xlabel='Date'>"
      ]
     },
     "execution_count": 35,
     "metadata": {},
     "output_type": "execute_result"
    },
    {
     "data": {
      "image/png": "[encoded data removed]",
      "text/plain": [
       "<Figure size 640x480 with 1 Axes>"
      ]
     },
     "metadata": {},
     "output_type": "display_data"
    }
   ],
   "source": [
    "game_df.plot(kind = \"line\", x=\"Date\",y=\"Close\",title = \"Gamestop\")"
   ]
  },
  {
   "cell_type": "code",
   "execution_count": 34,
   "id": "66471d17-6728-40c7-a29a-04b52e4d6360",
   "metadata": {},
   "outputs": [
    {
     "data": {
      "text/plain": [
       "<Axes: xlabel='Year'>"
      ]
     },
     "execution_count": 34,
     "metadata": {},
     "output_type": "execute_result"
    },
    {
     "data": {
      "image/png": "[encoded data removed]",
      "text/plain": [
       "<Figure size 640x480 with 1 Axes>"
      ]
     },
     "metadata": {},
     "output_type": "display_data"
    }
   ],
   "source": [
    "gme.sort_values(by=\"Year\").plot(kind=\"line\", x = \"Year\", y= \"Revenue\", title = \"GameStop revenue (M$)\")"
   ]
  },
  {
   "cell_type": "code",
   "execution_count": null,
   "id": "65898160-93bb-4b9e-a63a-d578789ab5e0",
   "metadata": {},
   "outputs": [],
   "source": []
  },
  {
   "cell_type": "code",
   "execution_count": null,
   "id": "e4ab162c-d945-48bb-97fd-54d9e45fabaa",
   "metadata": {},
   "outputs": [],
   "source": []
  },
  {
   "cell_type": "code",
   "execution_count": null,
   "id": "f661c54b-0817-4c62-ba94-b5ccfbdc535f",
   "metadata": {},
   "outputs": [],
   "source": []
  }
 ],
 "metadata": {
  "kernelspec": {
   "display_name": "Python 3 (ipykernel)",
   "language": "python",
   "name": "python3"
  },
  "language_info": {
   "codemirror_mode": {
    "name": "ipython",
    "version": 3
   },
   "file_extension": ".py",
   "mimetype": "text/x-python",
   "name": "python",
   "nbconvert_exporter": "python",
   "pygments_lexer": "ipython3",
   "version": "3.11.4"
  }
 },
 "nbformat": 4,
 "nbformat_minor": 5
}
